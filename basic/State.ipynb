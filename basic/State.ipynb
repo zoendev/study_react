{
 "cells": [
  {
   "cell_type": "markdown",
   "metadata": {},
   "source": [
    "State란 데이터가 저장되는 곳"
   ]
  },
  {
   "cell_type": "markdown",
   "metadata": {},
   "source": []
  }
 ],
 "metadata": {
  "kernelspec": {
   "display_name": "Python 3.7.11 ('gpu')",
   "language": "python",
   "name": "python3"
  },
  "language_info": {
   "name": "python",
   "version": "3.7.11"
  },
  "orig_nbformat": 4,
  "vscode": {
   "interpreter": {
    "hash": "a2aa423f0da82c4c226c8001efc90a1a4d5d6e75da80c549b014ebe191de8cfc"
   }
  }
 },
 "nbformat": 4,
 "nbformat_minor": 2
}
